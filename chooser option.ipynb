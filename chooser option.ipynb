{
 "cells": [
  {
   "cell_type": "markdown",
   "metadata": {},
   "source": [
    "# Chooser Option Project"
   ]
  },
  {
   "cell_type": "markdown",
   "metadata": {},
   "source": [
    "## PART 0:  Introduction of the Option"
   ]
  },
  {
   "cell_type": "markdown",
   "metadata": {},
   "source": [
    "| 10/25        | Payoff           \n",
    "| ------------- |:-------------:|\n",
    "| Average_Oct      | Case1 |\n",
    "| Average_Nov     |  Case2     |"
   ]
  },
  {
   "cell_type": "markdown",
   "metadata": {},
   "source": [
    "# Case 1 - Price an Asian option inside the averaging interval\n",
    "# -- new Asian option with a modified strike"
   ]
  },
  {
   "cell_type": "markdown",
   "metadata": {},
   "source": [
    "####  Conditions\n",
    "$ t^*$ = 10/25;\n",
    "\n",
    "$ t $ = 10/01;\n",
    "\n",
    "$ T $ = 10/30 ;\n",
    "\n",
    "Average Prices $ S_{average} $: (dec18 brent 10/1-10/30)\n",
    "\n",
    "$ A_{t,t^*}$(Known); \n",
    "\n",
    "$ A_{t^*,T}$ (Unknown)\n",
    "\n",
    "#### Price an Asian option at time $ t^*$ inside the averaging interval $[t,T]$\n",
    "\n",
    "The averaging period is composed of two periods: $\\tau_1 = t^*-t $ (observed) and $\\tau_2 = T-t^* $ (future). The average $ A_{t,T} $ can be represented as the sum of two period\n",
    "$$ A_{t,T} = \\frac {A_{t,t^*} \\tau_1+A_{t^*,T}\\tau_2}{\\tau_1+\\tau_2}$$\n",
    "Then the payoff can be represented as follows:\n",
    "\n",
    "$$ max( A_{t,T}-K,0 ) = max( \\frac {A_{t,t^*} \\tau_1+A_{t^*,T}\\tau_2}{\\tau_1+\\tau_2}-K , 0) = \\alpha max (A_{t^*,T}-K^*, 0 )$$\n",
    "\n",
    "The rescaling factor is:\n",
    "\n",
    "$$\\alpha = \\frac{\\tau_2}{\\tau_1+\\tau_2}$$\n",
    "\n",
    "The  new strike is:\n",
    "$$K^* = \\frac{\\tau_1}{\\tau_2}(K- A_{t,t^*}) + K $$"
   ]
  },
  {
   "cell_type": "markdown",
   "metadata": {},
   "source": [
    "# Case 2 - European Asian Option\n",
    "\n",
    "$ S_{average} = A_{nov} $\n",
    "\n",
    "jan19 brent 11/1-11/29\n",
    "\n",
    "The payoff \n",
    "#### $$Call:  max(A_{nov}-K,0)$$\n",
    "#### $$Put:  max(K-A_{nov},0)$$"
   ]
  },
  {
   "cell_type": "markdown",
   "metadata": {},
   "source": [
    "## To Do\n",
    "\n",
    "### hedge plan A-对underlying价格有判断\n",
    "\n",
    "- 1. 固定一个hedge frequency (e.g. 24h)\n",
    "- 2. 假设 underlying dynamics (e.g. GBM)\n",
    "- 3. 设定underlying up and low bounds (基于对市场的判断 ？), 在24小时之内hit任何一个bounds, hedge delta / OR delta大于一个数值就hedge\n",
    "- 4. 基于不断优化 bounds 使 p&l （最大？or 方差最小？）\n",
    "\n",
    "缺点： 用GBM, 假设的使 bs economy，太理想； transaction cost怎么考虑"
   ]
  },
  {
   "cell_type": "markdown",
   "metadata": {},
   "source": [
    "## hedge performance measurement\n",
    "\n",
    "cost ??"
   ]
  }
 ],
 "metadata": {
  "kernelspec": {
   "display_name": "Python 3",
   "language": "python",
   "name": "python3"
  },
  "language_info": {
   "codemirror_mode": {
    "name": "ipython",
    "version": 3
   },
   "file_extension": ".py",
   "mimetype": "text/x-python",
   "name": "python",
   "nbconvert_exporter": "python",
   "pygments_lexer": "ipython3",
   "version": "3.6.5"
  }
 },
 "nbformat": 4,
 "nbformat_minor": 2
}
